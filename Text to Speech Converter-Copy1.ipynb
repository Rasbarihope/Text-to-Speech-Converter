{
 "cells": [
  {
   "cell_type": "code",
   "execution_count": 1,
   "id": "12a71de8-30a4-4e80-a02b-dbee30915a74",
   "metadata": {},
   "outputs": [],
   "source": [
    "import tkinter as tk\n",
    "from tkinter import*\n",
    "from tkinter import filedialog\n",
    "from tkinter.ttk import Combobox\n",
    "import pyttsx3\n",
    "import os\n",
    "from gtts import gTTS\n",
    "from playsound import playsound\n"
   ]
  },
  {
   "cell_type": "code",
   "execution_count": 2,
   "id": "fec3328b-7e18-4795-bb94-4c1b52e245d2",
   "metadata": {},
   "outputs": [],
   "source": [
    "root = Tk()\n",
    "root.title(\" Debojyoti Text to Speech Converter\" )\n",
    "root.geometry (\"1000x580+200+80\")\n",
    "root.resizable(True, True)\n",
    "root.configure(bg= \"#f7ac40\")\n",
    "# root.mainloop()\n"
   ]
  },
  {
   "cell_type": "code",
   "execution_count": 3,
   "id": "25eceaad-1007-4bc2-a44a-241f535cab9c",
   "metadata": {},
   "outputs": [],
   "source": [
    "\n",
    "# Initialize the TTS engine\n",
    "tts = pyttsx3.init()\n",
    "\n",
    "def speaknow():\n",
    "    # Get the text from the text box\n",
    "    text = text_box.get(1.0, END).strip()\n",
    "    # Get the selected gender\n",
    "    gender = gender_box.get()\n",
    "    # Get the selected speed\n",
    "    speed = speed_box.get()\n",
    "    # Get available voices\n",
    "    voices = tts.getProperty('voices')\n",
    "    \n",
    "    def setvoice():\n",
    "        # Set the voice based on the selected gender\n",
    "        if gender == 'Male':\n",
    "            tts.setProperty('voice', voices[0].id)\n",
    "        else:\n",
    "            tts.setProperty('voice', voices[1].id)\n",
    "        # Speak the text\n",
    "        tts.say(text)\n",
    "        tts.runAndWait()\n",
    "\n",
    "    if text:\n",
    "        # Set the speed based on the selected option\n",
    "        if speed == 'Fast':\n",
    "            tts.setProperty('rate', 250)\n",
    "        elif speed == 'Medium':\n",
    "            tts.setProperty('rate', 150)\n",
    "        else:\n",
    "            tts.setProperty('rate', 60)\n",
    "        setvoice()\n"
   ]
  },
  {
   "cell_type": "code",
   "execution_count": 4,
   "id": "894c95c7-e284-4d52-a91c-60d31c75163a",
   "metadata": {},
   "outputs": [],
   "source": [
    "# Debojyoti_logo = PhotoImage(file =r\"C:Photo_path.png\")\n",
    "# Label(root, image= Debojyoti_logo, bg= \"#F7AC40\").place(x=535, y=250 )\n",
    "# root.mainloop()\n",
    "\n",
    "from tkinter import Tk, Label\n",
    "from PIL import Image, ImageTk\n",
    "\n",
    "# Load and resize the image using Pillow\n",
    "image_path = r\"C:Photo_path.png\"\n",
    "image = Image.open(image_path)\n",
    "image = image.resize((220, 130), Image.LANCZOS)  # Resize to your desired dimensions\n",
    "\n",
    "# Convert the image to PhotoImage format\n",
    "Debojyoti_logo = ImageTk.PhotoImage(image)\n",
    "\n",
    "# Display the image in the Tkinter window\n",
    "Label(root, image=Debojyoti_logo, bg=\"#f7ac40\").place(x=1300, y=650)\n",
    "\n",
    "# root.mainloop()"
   ]
  },
  {
   "cell_type": "code",
   "execution_count": 5,
   "id": "de0aba40-faaf-46de-b302-696a74b4ba71",
   "metadata": {},
   "outputs": [],
   "source": [
    "logo_image = PhotoImage(file= r\"C:Photo_path.png\")\n",
    "root.iconphoto(True, logo_image)\n",
    "# root.mainloop()\n"
   ]
  },
  {
   "cell_type": "code",
   "execution_count": 6,
   "id": "0da901b0-9e8c-4f02-b80f-4401a3f0740e",
   "metadata": {},
   "outputs": [],
   "source": [
    "upper_frame = Frame(root, bg=\"#14A7DD\", width = 1400, height = 190)\n",
    "upper_frame.place(x=0, y=0)\n",
    "\n",
    "picture = PhotoImage(file = r\"C:Photo_path.png\")\n",
    "Label(upper_frame, image = picture, bg=\"#14A7DD\").place(x=200, y=-120)\n",
    "# root.mainloop()\n"
   ]
  },
  {
   "cell_type": "code",
   "execution_count": 7,
   "id": "1e8fa8f4-44bd-4b35-a550-5cbc48c5faf5",
   "metadata": {},
   "outputs": [],
   "source": [
    "Label(upper_frame, text =\"Text to Speech Converter\", font=\"TimesNewroman 40 bold\",bg=\"#14A7DD\", fg='White').place(x=250,y=100)\n",
    "# root.mainloop()"
   ]
  },
  {
   "cell_type": "code",
   "execution_count": 8,
   "id": "532f1df5-8689-491b-84ab-f4478a57de58",
   "metadata": {},
   "outputs": [],
   "source": [
    "text_box = Text(root, font = \"calibri 20\", bg =\"white\" , relief = GROOVE,wrap = WORD,bd=0)\n",
    "text_box.place(x=30, y=250, width=940, height =150)\n",
    "# root.mainloop()"
   ]
  },
  {
   "cell_type": "code",
   "execution_count": 9,
   "id": "c070ca68-10eb-42c2-b75b-ede3e9c48ee7",
   "metadata": {},
   "outputs": [],
   "source": [
    "gender_box = Combobox(root, values=['Male','Female'], font = \"Robote 12\" ,state='r', width=12)\n",
    "gender_box.place(x=340, y=450)\n",
    "gender_box.set('Medium')\n",
    "# root.mainloop()"
   ]
  },
  {
   "cell_type": "code",
   "execution_count": 10,
   "id": "176898d3-b23e-428d-b3ba-8835769bdb95",
   "metadata": {},
   "outputs": [],
   "source": [
    "speed_box = Combobox(root, values=['Fast','Medium','Slow'], font= \"Robote 12\" ,state='r', width =12)\n",
    "speed_box.place(x=540, y=450)\n",
    "speed_box.set('Medium')\n",
    "# root.mainloop()"
   ]
  },
  {
   "cell_type": "code",
   "execution_count": 11,
   "id": "bda2f6ae-d75c-4575-af9c-5939511618c4",
   "metadata": {},
   "outputs": [],
   "source": [
    "Label(root, text =\"Select Voice\", font ='TimesNewRoman 15 bold', bg =\"#F7ac40\", fg=\"white\").place(x=340, y= 410)\n",
    "Label(root, text =\"Select Speed\", font ='TimesNewRoman 15 bold', bg =\"#F7ac40\", fg=\"white\").place(x=540, y= 410)\n",
    "# root.mainloop()"
   ]
  },
  {
   "cell_type": "code",
   "execution_count": null,
   "id": "016a326e-37e4-4f79-b749-6eb5074b994a",
   "metadata": {},
   "outputs": [],
   "source": [
    "# play_button = PhotoImage(file= r\"C:Photo_path.gif\")\n",
    "# play_btn = Button(root, text =\"play\", compound = LEFT, image= play_button, bg='white',width=130,font=\"arial 14 bold\", borderwidth='0.1c',command=speaknow)\n",
    "# play_btn.place(x=435,y=450)\n",
    "# root.mainloop()\n",
    "\n",
    "# Load and resize the play button image using Pillow\n",
    "image_path = r\"C:Photo_path.gif\"\n",
    "image = Image.open(image_path)\n",
    "image = image.resize((50, 50), Image.LANCZOS)  # Resize to desired dimensions (50x50 in this case)\n",
    "play_button = ImageTk.PhotoImage(image)\n",
    "\n",
    "# Add the play button with the resized image\n",
    "play_btn = Button(root, text=\"play\", compound=LEFT, image=play_button, bg='white', width=130, font=\"arial 14 bold\", borderwidth='0.1c', command=speaknow)\n",
    "play_btn.place(x=435, y=500)\n",
    "\n",
    "root.mainloop()"
   ]
  }
 ],
 "metadata": {
  "kernelspec": {
   "display_name": "Python 3 (ipykernel)",
   "language": "python",
   "name": "python3"
  },
  "language_info": {
   "codemirror_mode": {
    "name": "ipython",
    "version": 3
   },
   "file_extension": ".py",
   "mimetype": "text/x-python",
   "name": "python",
   "nbconvert_exporter": "python",
   "pygments_lexer": "ipython3",
   "version": "3.10.11"
  }
 },
 "nbformat": 4,
 "nbformat_minor": 5
}
